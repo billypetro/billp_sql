{
 "cells": [
  {
   "cell_type": "markdown",
   "id": "7f8670b5-02ca-403c-acc4-446335d46d83",
   "metadata": {},
   "source": [
    "### Danny Ma 8 week SQL course"
   ]
  },
  {
   "cell_type": "markdown",
   "id": "14eef888-4a9c-4b02-b968-d22ebd598d4d",
   "metadata": {
    "tags": []
   },
   "source": [
    "Introduction\n",
    "Danny seriously loves Japanese food so in the beginning of 2021, he decides to embark upon a risky venture and opens up a cute little restaurant that sells his 3 favourite foods: sushi, curry and ramen.\n",
    "\n",
    "Danny’s Diner is in need of your assistance to help the restaurant stay afloat - the restaurant has captured some very basic data from their few months of operation but have no idea how to use their data to help them run the business.\n",
    "\n",
    "Problem Statement\n",
    "Danny wants to use the data to answer a few simple questions about his customers, especially about their visiting patterns, how much money they’ve spent and also which menu items are their favourite. Having this deeper connection with his customers will help him deliver a better and more personalised experience for his loyal customers.\n",
    "\n",
    "He plans on using these insights to help him decide whether he should expand the existing customer loyalty program - additionally he needs help to generate some basic datasets so his team can easily inspect the data without needing to use SQL.\n",
    "\n",
    "Danny has provided you with a sample of his overall customer data due to privacy issues - but he hopes that these examples are enough for you to write fully functioning SQL queries to help him answer his questions!\n",
    "\n",
    "Danny has shared with you 3 key datasets for this case study:\n",
    "<br /> - sales\n",
    "<br /> - menu\n",
    "<br /> - members\n",
    "<br />You can inspect the entity relationship diagram and example data below."
   ]
  },
  {
   "cell_type": "markdown",
   "id": "06f4325a-2b0c-4177-94ea-8217d557b2ec",
   "metadata": {},
   "source": [
    "![alt text](tableERD.png \"ERD Diagram\")"
   ]
  },
  {
   "cell_type": "markdown",
   "id": "0292d278-3e11-470a-8d49-36f465095646",
   "metadata": {},
   "source": [
    "<u>Example Datasets</u>\n",
    "<br /> All datasets exist within the dannys_diner database schema - be sure to include this reference within your SQL scripts as you start exploring the data and answering the case study questions.\n",
    "\n",
    "<b>Table 1: sales </b>\n",
    "<br />The sales table captures all customer_id level purchases with an corresponding order_date and product_id information for when and what menu items were ordered."
   ]
  },
  {
   "cell_type": "markdown",
   "id": "90fc4959-a867-4e43-8e6d-5a846b42b795",
   "metadata": {},
   "source": [
    "![alt text](sales.png \"Sales Table\")"
   ]
  },
  {
   "cell_type": "markdown",
   "id": "0ae42b4e-1716-4ec8-889a-12c4105c0aee",
   "metadata": {},
   "source": [
    "<b>Table 2: menu</b><br />\n",
    "The menu table maps the product_id to the actual product_name and price of each menu item."
   ]
  },
  {
   "cell_type": "markdown",
   "id": "90175895-14ce-4137-b108-d8d0723f1ef2",
   "metadata": {},
   "source": [
    "![alt text](menu.png \"Menu Table\")"
   ]
  },
  {
   "cell_type": "markdown",
   "id": "2fbaa3c6-2735-4b25-b9fb-756fa6c32a0f",
   "metadata": {},
   "source": [
    "<b>Table 3: members</b> <br />\n",
    "The final members table captures the join_date when a customer_id joined the beta version of the Danny’s Diner loyalty program."
   ]
  },
  {
   "cell_type": "markdown",
   "id": "915b1483-54fb-4851-be46-bd2c8ec4f2b6",
   "metadata": {},
   "source": [
    "![alt text](members.png \"Members Table\")"
   ]
  },
  {
   "cell_type": "markdown",
   "id": "121f366b-d977-47b8-b8f0-e010ceb2f924",
   "metadata": {},
   "source": [
    "<b>Case Study Questions</b> <br />\n",
    "Each of the following case study questions can be answered using a single SQL statement:\n",
    "\n",
    "1. What is the total amount each customer spent at the restaurant?"
   ]
  },
  {
   "cell_type": "raw",
   "id": "b70ba5f5-1c65-4696-8714-6e058177406e",
   "metadata": {},
   "source": [
    "SELECT customer_id, sum(price) as spent\n",
    "FROM dannys_diner.sales s\n",
    "left join dannys_diner.menu m\n",
    "on s.product_id=m.product_id\n",
    "group by customer_id\n",
    "order by customer_id;"
   ]
  },
  {
   "cell_type": "markdown",
   "id": "1ca28753-6d51-4782-ae74-32adad7f3a12",
   "metadata": {},
   "source": [
    "![alt text](q1.png \"question 1\")"
   ]
  },
  {
   "cell_type": "markdown",
   "id": "68a37f9d-7132-44f6-8163-cbb835117082",
   "metadata": {},
   "source": [
    "2. How many days has each customer visited the restaurant?"
   ]
  },
  {
   "cell_type": "raw",
   "id": "f0c1b627-d84a-482c-b657-cfeddfe49fc1",
   "metadata": {},
   "source": [
    "select customer_id, count(*) as days_visited\n",
    "from\n",
    "(SELECT customer_id, order_date\n",
    "FROM dannys_diner.sales \n",
    "group by customer_id, order_date) base_table\n",
    "group by customer_id\n",
    "order by customer_id"
   ]
  },
  {
   "cell_type": "markdown",
   "id": "9d82d373-dde3-42cc-bf4f-e30cdb3f3517",
   "metadata": {},
   "source": [
    "![alt text](q2.png \"question 2\")"
   ]
  },
  {
   "cell_type": "markdown",
   "id": "48167488-e3c5-43e8-91b1-bf1410bb29ba",
   "metadata": {},
   "source": [
    "3. What was the first item from the menu purchased by each customer?"
   ]
  },
  {
   "cell_type": "raw",
   "id": "3fe7586c-60d8-4d54-a5f4-b37d69eab840",
   "metadata": {},
   "source": [
    "select customer_id, product_name as first_item\n",
    "from\n",
    "(SELECT customer_id, product_name, row_number() over (partition by customer_id order by order_date) as ranking\n",
    "FROM dannys_diner.sales s\n",
    "left join dannys_diner.menu m \n",
    "on s.product_id = m.product_id \n",
    "group by customer_id, product_name, order_date) base_table\n",
    "where ranking = 1"
   ]
  },
  {
   "cell_type": "markdown",
   "id": "7b6cabca-8ec3-4035-9c2c-9afdbba30361",
   "metadata": {},
   "source": [
    "![alt text](q3.png \"question 3\")"
   ]
  },
  {
   "cell_type": "markdown",
   "id": "37ffa46e-2ccf-49fc-baa9-f3ab326a2854",
   "metadata": {},
   "source": [
    "4. What is the most purchased item on the menu and how many times was it purchased by all customers?"
   ]
  },
  {
   "cell_type": "raw",
   "id": "ad84c1c1-eb7f-4c83-a502-443aeda16071",
   "metadata": {},
   "source": [
    "select product_name, times_ordered \n",
    "from\n",
    "(select product_name, times_ordered, rank() over (order by times_ordered desc) as ranking\n",
    "from\n",
    "(SELECT product_name, count(*) as times_ordered\n",
    "FROM dannys_diner.sales s\n",
    "left join dannys_diner.menu m \n",
    "on s.product_id = m.product_id \n",
    "group by product_name) base_table\n",
    ") basetable2\n",
    "where ranking = 1"
   ]
  },
  {
   "cell_type": "markdown",
   "id": "6483b694-1757-40a1-b31a-60c95ca9d66c",
   "metadata": {},
   "source": [
    "![alt text](q4.png \"question 4\")"
   ]
  },
  {
   "cell_type": "markdown",
   "id": "ec5a716a-e2bb-43f2-86ae-96ff8345f5af",
   "metadata": {},
   "source": [
    "5. Which item was the most popular for each customer?\n",
    "<br /> customer B has tried all the items the same amt of times"
   ]
  },
  {
   "cell_type": "raw",
   "id": "98a92ba4-594f-44ae-b8c5-1a1c597c4a6c",
   "metadata": {},
   "source": [
    "select customer_id, product_name, times_ordered \n",
    "from\n",
    "(select customer_id, product_name, times_ordered, row_number() over (partition by customer_id order by times_ordered desc) as ranking\n",
    "from\n",
    "(SELECT customer_id, product_name, count(*) as times_ordered\n",
    "FROM dannys_diner.sales s\n",
    "left join dannys_diner.menu m \n",
    "on s.product_id = m.product_id \n",
    "group by customer_id, product_name) base_table\n",
    ") basetable2\n",
    "where ranking = 1"
   ]
  },
  {
   "cell_type": "markdown",
   "id": "0553256d-e32d-4b80-8cd2-0632619c7b89",
   "metadata": {},
   "source": [
    "![alt text](q5.png \"question 5\")"
   ]
  },
  {
   "cell_type": "markdown",
   "id": "80b4f83d-771c-48af-97c2-fd5d6ab88ff1",
   "metadata": {},
   "source": [
    "6. Which item was purchased first by the customer after they became a member?"
   ]
  },
  {
   "cell_type": "markdown",
   "id": "a3d1ae17-734d-4f7f-8925-55a5688f9127",
   "metadata": {},
   "source": [
    "7. Which item was purchased just before the customer became a member?"
   ]
  },
  {
   "cell_type": "markdown",
   "id": "e75fcbe6-f33d-4943-9913-014a40e61579",
   "metadata": {},
   "source": [
    "8. What is the total items and amount spent for each member before they became a member?"
   ]
  },
  {
   "cell_type": "markdown",
   "id": "c2ff2acf-31dc-4440-b306-2899999f1edf",
   "metadata": {},
   "source": [
    "9. If each $1 spent equates to 10 points and sushi has a 2x points multiplier - how many points would each customer have?"
   ]
  },
  {
   "cell_type": "markdown",
   "id": "71a94db1-45d1-444d-bb4d-31eae67b89e1",
   "metadata": {},
   "source": [
    "10. In the first week after a customer joins the program (including their join date) they earn 2x points on all items, not just sushi - how many points do customer A and B have at the end of January?"
   ]
  },
  {
   "cell_type": "markdown",
   "id": "deb6ce0d-56d8-4e3a-935e-f06f9412a0c7",
   "metadata": {},
   "source": [
    "<b>Join All The Things</b><br />\n",
    "The following questions are related creating basic data tables that Danny and his team can use to quickly derive insights without needing to join the underlying tables using SQL.\n",
    "\n",
    "Recreate the following table output using the available data:"
   ]
  },
  {
   "cell_type": "markdown",
   "id": "00006a7b-cb78-4267-9b43-bf2d58347c05",
   "metadata": {},
   "source": [
    "![alt text](joined.png \"Joined Table\")"
   ]
  },
  {
   "cell_type": "markdown",
   "id": "bd4d9afd-9c03-4da8-baea-e998156e7cd2",
   "metadata": {},
   "source": [
    "<b>Rank All The Things</b><br />\n",
    "Danny also requires further information about the ranking of customer products, but he purposely does not need the ranking for non-member purchases so he expects null ranking values for the records when customers are not yet part of the loyalty program."
   ]
  },
  {
   "cell_type": "markdown",
   "id": "efd7b838-cd9a-4c9f-a3a4-0cf0a18f3429",
   "metadata": {},
   "source": [
    "![alt text](ranking.png \"Ranked Table\")"
   ]
  },
  {
   "cell_type": "code",
   "execution_count": null,
   "id": "56a915f4-8340-460b-a7ba-00ad5161c8da",
   "metadata": {},
   "outputs": [],
   "source": []
  }
 ],
 "metadata": {
  "kernelspec": {
   "display_name": "Python 3 (ipykernel)",
   "language": "python",
   "name": "python3"
  },
  "language_info": {
   "codemirror_mode": {
    "name": "ipython",
    "version": 3
   },
   "file_extension": ".py",
   "mimetype": "text/x-python",
   "name": "python",
   "nbconvert_exporter": "python",
   "pygments_lexer": "ipython3",
   "version": "3.9.16"
  }
 },
 "nbformat": 4,
 "nbformat_minor": 5
}
