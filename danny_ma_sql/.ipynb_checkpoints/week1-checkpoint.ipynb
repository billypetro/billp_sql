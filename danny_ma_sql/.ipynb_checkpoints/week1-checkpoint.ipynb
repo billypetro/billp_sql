{
 "cells": [
  {
   "cell_type": "markdown",
   "id": "7f8670b5-02ca-403c-acc4-446335d46d83",
   "metadata": {},
   "source": [
    "### Danny Ma 8 week SQL course"
   ]
  },
  {
   "cell_type": "markdown",
   "id": "14eef888-4a9c-4b02-b968-d22ebd598d4d",
   "metadata": {
    "tags": []
   },
   "source": [
    "Introduction\n",
    "Danny seriously loves Japanese food so in the beginning of 2021, he decides to embark upon a risky venture and opens up a cute little restaurant that sells his 3 favourite foods: sushi, curry and ramen.\n",
    "\n",
    "Danny’s Diner is in need of your assistance to help the restaurant stay afloat - the restaurant has captured some very basic data from their few months of operation but have no idea how to use their data to help them run the business.\n",
    "\n",
    "Problem Statement\n",
    "Danny wants to use the data to answer a few simple questions about his customers, especially about their visiting patterns, how much money they’ve spent and also which menu items are their favourite. Having this deeper connection with his customers will help him deliver a better and more personalised experience for his loyal customers.\n",
    "\n",
    "He plans on using these insights to help him decide whether he should expand the existing customer loyalty program - additionally he needs help to generate some basic datasets so his team can easily inspect the data without needing to use SQL.\n",
    "\n",
    "Danny has provided you with a sample of his overall customer data due to privacy issues - but he hopes that these examples are enough for you to write fully functioning SQL queries to help him answer his questions!\n",
    "\n",
    "Danny has shared with you 3 key datasets for this case study:\n",
    "<br /> - sales\n",
    "<br /> - menu\n",
    "<br /> - members\n",
    "<br />You can inspect the entity relationship diagram and example data below."
   ]
  },
  {
   "cell_type": "markdown",
   "id": "06f4325a-2b0c-4177-94ea-8217d557b2ec",
   "metadata": {},
   "source": [
    "![alt text](tableERD.png \"ERD Diagram\")"
   ]
  },
  {
   "cell_type": "markdown",
   "id": "0292d278-3e11-470a-8d49-36f465095646",
   "metadata": {},
   "source": [
    "<u>Example Datasets</u>\n",
    "<br /> All datasets exist within the dannys_diner database schema - be sure to include this reference within your SQL scripts as you start exploring the data and answering the case study questions.\n",
    "\n",
    "<b>Table 1: sales </b>\n",
    "<br />The sales table captures all customer_id level purchases with an corresponding order_date and product_id information for when and what menu items were ordered."
   ]
  },
  {
   "cell_type": "markdown",
   "id": "90fc4959-a867-4e43-8e6d-5a846b42b795",
   "metadata": {},
   "source": [
    "![alt text](sales.png \"Sales Table\")"
   ]
  },
  {
   "cell_type": "markdown",
   "id": "0ae42b4e-1716-4ec8-889a-12c4105c0aee",
   "metadata": {},
   "source": [
    "<b>Table 2: menu</b><br />\n",
    "The menu table maps the product_id to the actual product_name and price of each menu item."
   ]
  },
  {
   "cell_type": "markdown",
   "id": "90175895-14ce-4137-b108-d8d0723f1ef2",
   "metadata": {},
   "source": [
    "![alt text](menu.png \"Menu Table\")"
   ]
  },
  {
   "cell_type": "markdown",
   "id": "2fbaa3c6-2735-4b25-b9fb-756fa6c32a0f",
   "metadata": {},
   "source": [
    "<b>Table 3: members</b> <br />\n",
    "The final members table captures the join_date when a customer_id joined the beta version of the Danny’s Diner loyalty program."
   ]
  },
  {
   "cell_type": "markdown",
   "id": "915b1483-54fb-4851-be46-bd2c8ec4f2b6",
   "metadata": {},
   "source": [
    "![alt text](members.png \"Members Table\")"
   ]
  },
  {
   "cell_type": "markdown",
   "id": "121f366b-d977-47b8-b8f0-e010ceb2f924",
   "metadata": {},
   "source": [
    "<b>Case Study Questions</b> <br />\n",
    "Each of the following case study questions can be answered using a single SQL statement:\n",
    "\n",
    "1. What is the total amount each customer spent at the restaurant?"
   ]
  },
  {
   "cell_type": "markdown",
   "id": "dd78fd00-65b0-4c0e-9193-eaed2ac14004",
   "metadata": {},
   "source": [
    "<br /> SELECT customer_id, sum(price) as spent\n",
    "<br />FROM dannys_diner.sales s\n",
    "<br /> left join dannys_diner.menu m\n",
    "<br /> on s.product_id=m.product_id\n",
    "<br /> group by customer_id\n",
    "<br /> order by customer_id;"
   ]
  },
  {
   "cell_type": "markdown",
   "id": "1ca28753-6d51-4782-ae74-32adad7f3a12",
   "metadata": {},
   "source": [
    "![alt text](q1.png \"question 1\")"
   ]
  },
  {
   "cell_type": "markdown",
   "id": "68a37f9d-7132-44f6-8163-cbb835117082",
   "metadata": {},
   "source": [
    "2. How many days has each customer visited the restaurant?"
   ]
  },
  {
   "cell_type": "markdown",
   "id": "5afb3eb8-66f2-4af3-935a-9c72646ec75a",
   "metadata": {},
   "source": [
    "<br />select customer_id, count(*) as days_visited\n",
    "<br />from\n",
    "<br />(SELECT customer_id, order_date\n",
    "<br />FROM dannys_diner.sales \n",
    "<br />group by customer_id, order_date) base_table\n",
    "<br />group by customer_id\n",
    "<br />order by customer_id"
   ]
  },
  {
   "cell_type": "markdown",
   "id": "9d82d373-dde3-42cc-bf4f-e30cdb3f3517",
   "metadata": {},
   "source": [
    "![alt text](q2.png \"question 2\")"
   ]
  },
  {
   "cell_type": "markdown",
   "id": "48167488-e3c5-43e8-91b1-bf1410bb29ba",
   "metadata": {},
   "source": [
    "3. What was the first item from the menu purchased by each customer?\n",
    "<br />Customer A purchased sushi and ramen on their first visit"
   ]
  },
  {
   "cell_type": "markdown",
   "id": "69848b50-5b4e-4fae-ab5e-63c1cd0009ef",
   "metadata": {},
   "source": [
    "<br /> select customer_id, product_name as first_item\n",
    "<br /> from\n",
    "<br /> (SELECT customer_id, product_name, rank() over (partition by customer_id order by order_date) as ranking\n",
    "<br /> FROM dannys_diner.sales s\n",
    "<br /> left join dannys_diner.menu m \n",
    "<br /> on s.product_id = m.product_id \n",
    "<br /> group by customer_id, product_name, order_date) base_table\n",
    "<br /> where ranking = 1"
   ]
  },
  {
   "cell_type": "markdown",
   "id": "7b6cabca-8ec3-4035-9c2c-9afdbba30361",
   "metadata": {},
   "source": [
    "![alt text](q3.png \"question 3\")"
   ]
  },
  {
   "cell_type": "markdown",
   "id": "37ffa46e-2ccf-49fc-baa9-f3ab326a2854",
   "metadata": {},
   "source": [
    "4. What is the most purchased item on the menu and how many times was it purchased by all customers?"
   ]
  },
  {
   "cell_type": "markdown",
   "id": "5cbd4753-acb9-49c5-995a-74f67daf2910",
   "metadata": {},
   "source": [
    "<br /> select product_name, times_ordered \n",
    "<br /> from\n",
    "<br /> (select product_name, times_ordered, rank() over (order by times_ordered desc) as ranking\n",
    "<br /> from\n",
    "<br /> (SELECT product_name, count(*) as times_ordered\n",
    "<br /> FROM dannys_diner.sales s\n",
    "<br /> left join dannys_diner.menu m \n",
    "<br /> on s.product_id = m.product_id \n",
    "<br /> group by product_name) base_table\n",
    "<br /> ) basetable2\n",
    "<br /> where ranking = 1"
   ]
  },
  {
   "cell_type": "markdown",
   "id": "6483b694-1757-40a1-b31a-60c95ca9d66c",
   "metadata": {},
   "source": [
    "![alt text](q4.png \"question 4\")"
   ]
  },
  {
   "cell_type": "markdown",
   "id": "ec5a716a-e2bb-43f2-86ae-96ff8345f5af",
   "metadata": {},
   "source": [
    "5. Which item was the most popular for each customer?\n",
    "<br /> customer B has tried all the items the same amt of times"
   ]
  },
  {
   "cell_type": "markdown",
   "id": "1b1828d1-aa09-4969-9717-45aefb660a55",
   "metadata": {},
   "source": [
    "<br /> select customer_id, product_name, times_ordered \n",
    "<br /> from\n",
    "<br /> (select customer_id, product_name, times_ordered, rank() over (partition by customer_id order by times_ordered desc) as ranking\n",
    "<br /> from\n",
    "<br /> (SELECT customer_id, product_name, count(*) as times_ordered\n",
    "<br /> FROM dannys_diner.sales s\n",
    "<br /> left join dannys_diner.menu m \n",
    "<br /> on s.product_id = m.product_id \n",
    "<br /> group by customer_id, product_name) base_table\n",
    "<br /> ) basetable2\n",
    "<br /> where ranking = 1"
   ]
  },
  {
   "cell_type": "markdown",
   "id": "0553256d-e32d-4b80-8cd2-0632619c7b89",
   "metadata": {},
   "source": [
    "![alt text](q5.png \"question 5\")"
   ]
  },
  {
   "cell_type": "markdown",
   "id": "80b4f83d-771c-48af-97c2-fd5d6ab88ff1",
   "metadata": {},
   "source": [
    "6. Which item was purchased first by the customer after they became a member?\n",
    "<br /> Here I am giving this answer as cust A ordered curry on 1/7 and became a member on the same day. Because the question does not state that it has to be the order after the date they become a member - I give this answer. The timestamp is the exact same - so I do not know the customer did not become a member and then order "
   ]
  },
  {
   "cell_type": "markdown",
   "id": "54a7642e-0f18-4d2a-a4bd-1d9538221062",
   "metadata": {},
   "source": [
    "<br />select customer_id, product_name\n",
    "<br />from\n",
    "<br />(select *, rank() over (partition by customer_id order by ranking ) as ranking1\n",
    "<br />from\n",
    "<br />(SELECT s.customer_id, product_name, case when join_date <= order_date then rank() over (partition by s.customer_id order by order_date)  end as ranking, join_date, order_date\n",
    "<br />FROM dannys_diner.sales s\n",
    "<br />left join dannys_diner.menu m \n",
    "<br />on s.product_id = m.product_id \n",
    "<br />left join dannys_diner.members me\n",
    "<br />on me.customer_id=s.customer_id\n",
    "<br />group by s.customer_id, product_name, order_date, join_date) base_table\n",
    "<br />where ranking is not null) base2\n",
    "<br />where ranking1= 1"
   ]
  },
  {
   "cell_type": "markdown",
   "id": "814cdd50-f3cf-4cdf-83b3-a78553a3ab33",
   "metadata": {},
   "source": [
    "![alt text](q6.png \"question 6\")"
   ]
  },
  {
   "cell_type": "markdown",
   "id": "a3d1ae17-734d-4f7f-8925-55a5688f9127",
   "metadata": {},
   "source": [
    "7. Which item was purchased just before the customer became a member?\n",
    "<br /> cust A only has the one order before they become a member on 1/7 and it's their first order"
   ]
  },
  {
   "cell_type": "markdown",
   "id": "14a00df7-c527-4586-8e2a-4ce01a227c3a",
   "metadata": {},
   "source": [
    "<br />select customer_id, product_name\n",
    "<br />from\n",
    "<br />(select *, rank() over (partition by customer_id order by order_date desc) as ranking1\n",
    "<br />from\n",
    "<br />(SELECT s.customer_id, product_name, case when join_date > order_date then rank() over (partition by s.customer_id order by order_date)  end as ranking, join_date, order_date\n",
    "<br />FROM dannys_diner.sales s\n",
    "<br />left join dannys_diner.menu m \n",
    "<br />on s.product_id = m.product_id \n",
    "<br />left join dannys_diner.members me\n",
    "<br />on me.customer_id=s.customer_id\n",
    "<br />group by s.customer_id, product_name, order_date, join_date) base_table\n",
    "<br />where ranking is not null) base2\n",
    "<br />where ranking =1"
   ]
  },
  {
   "cell_type": "markdown",
   "id": "0c39abb1-4324-4951-a237-31e8b9bd9b33",
   "metadata": {},
   "source": [
    "![alt text](q7.png \"question 7\")"
   ]
  },
  {
   "cell_type": "markdown",
   "id": "e75fcbe6-f33d-4943-9913-014a40e61579",
   "metadata": {},
   "source": [
    "8. What is the total items and amount spent for each member before they became a member?"
   ]
  },
  {
   "cell_type": "markdown",
   "id": "1b7d0cd5-48f7-4068-9d43-328828a42b4d",
   "metadata": {},
   "source": [
    "<br />select customer_id, count(*) as items, sum(price) as spend\n",
    "<br />from\n",
    "<br />(SELECT s.*, product_name, case when join_date > order_date or join_date is null then 1 else 0 end as non_mem, join_date,  price\n",
    "<br />FROM dannys_diner.sales s\n",
    "<br />left join dannys_diner.menu m\n",
    "<br />on s.product_id = m.product_id\n",
    "<br />left join dannys_diner.members me\n",
    "<br />on me.customer_id=s.customer_id\n",
    "<br />order by customer_id,order_date) base_table\n",
    "<br />where non_mem = 1\n",
    "<br />group by customer_id"
   ]
  },
  {
   "cell_type": "markdown",
   "id": "ab6b3ea1-a1f8-439c-908e-5b620906fa6d",
   "metadata": {},
   "source": [
    "![alt text](q8.png \"question 8\")"
   ]
  },
  {
   "cell_type": "markdown",
   "id": "c2ff2acf-31dc-4440-b306-2899999f1edf",
   "metadata": {},
   "source": [
    "9. If each $1 spent equates to 10 points and sushi has a 2x points multiplier - how many points would each customer have?"
   ]
  },
  {
   "cell_type": "markdown",
   "id": "eb29b9c9-616c-45aa-8850-5a8fb7e0189d",
   "metadata": {},
   "source": [
    "<br />select customer_id, sum(points) total_points\n",
    "<br />from\n",
    "<br />(select s.*, product_name,\n",
    "<br />case when product_name = 'sushi' then (price * 20) else (price * 10) end as points\n",
    "<br />FROM dannys_diner.sales s\n",
    "<br />left join dannys_diner.menu m\n",
    "<br />on s.product_id=m.product_id\n",
    "<br />order by customer_id, order_date) inner_table\n",
    "<br />group by customer_id"
   ]
  },
  {
   "cell_type": "markdown",
   "id": "43e5b688-1827-46bf-8403-2bb0355ed6d9",
   "metadata": {},
   "source": [
    "![alt text](q9.png \"question 9\")"
   ]
  },
  {
   "cell_type": "markdown",
   "id": "71a94db1-45d1-444d-bb4d-31eae67b89e1",
   "metadata": {},
   "source": [
    "10. In the first week after a customer joins the program (including their join date) they earn 2x points on all items, not just sushi - how many points do customer A and B have at the end of January?\n",
    "<br /> here I get an answer different than a lot of the others I see people with online - but that is due to the fact that as customer A became a member on 1/7 and ordered on 1/7 - I include that order towards their points as a member"
   ]
  },
  {
   "cell_type": "markdown",
   "id": "9b850fe3-d03f-46cd-8321-1b03fe488f05",
   "metadata": {},
   "source": [
    "<br />select customer_id, sum(pts_jan) as pts_jan\n",
    "<br />from\n",
    "<br />(select *, case when order_date <= '2021-01-31' then pts else 0 end as pts_jan\n",
    "<br />from\n",
    "<br />(SELECT s.*, join_date, \n",
    "<br />case when join_date-order_date between -6 and 0  then price*20 else case when product_name = 'sushi' then (price * 20) else (price * 10) end end as pts \n",
    "<br />FROM dannys_diner.sales s\n",
    "<br />left join dannys_diner.members me\n",
    "<br />on me.customer_id=s.customer_id\n",
    "<br />left join dannys_diner.menu m\n",
    "<br />on m.product_id = s.product_id) inner_table\n",
    "<br />) base2\n",
    "<br />where join_date is not null\n",
    "<br />group by customer_id"
   ]
  },
  {
   "cell_type": "markdown",
   "id": "f87c4560-13ad-4011-a931-082dee40e100",
   "metadata": {},
   "source": [
    "![alt text](q10.png \"question 10\")"
   ]
  },
  {
   "cell_type": "markdown",
   "id": "deb6ce0d-56d8-4e3a-935e-f06f9412a0c7",
   "metadata": {},
   "source": [
    "<b>Join All The Things</b><br />\n",
    "The following questions are related creating basic data tables that Danny and his team can use to quickly derive insights without needing to join the underlying tables using SQL.\n",
    "\n",
    "Recreate the following table output using the available data:"
   ]
  },
  {
   "cell_type": "markdown",
   "id": "00006a7b-cb78-4267-9b43-bf2d58347c05",
   "metadata": {},
   "source": [
    "![alt text](joined.png \"Joined Table\")"
   ]
  },
  {
   "cell_type": "markdown",
   "id": "5d2a4da4-54a8-4685-a836-f30a5300355f",
   "metadata": {},
   "source": [
    "    SELECT\n",
    "      \ts.customer_id,\n",
    "        left(cast(order_date as text),10) order_date,\n",
    "        product_name,\n",
    "        price,\n",
    "        case when order_date >= join_date then 'Y' else 'N' end as member\n",
    "    from dannys_diner.sales s     \n",
    "    left join dannys_diner.members me\n",
    "    on s.customer_id = me.customer_id\n",
    "    left join dannys_diner.menu m \n",
    "    on s.product_id = m.product_id\n",
    "    order by customer_id, order_date, s.product_id;\n",
    "\n",
    "| customer_id | order_date | product_name | price | member |\n",
    "| ----------- | ---------- | ------------ | ----- | ------ |\n",
    "| A           | 2021-01-01 | sushi        | 10    | N      |\n",
    "| A           | 2021-01-01 | curry        | 15    | N      |\n",
    "| A           | 2021-01-07 | curry        | 15    | Y      |\n",
    "| A           | 2021-01-10 | ramen        | 12    | Y      |\n",
    "| A           | 2021-01-11 | ramen        | 12    | Y      |\n",
    "| A           | 2021-01-11 | ramen        | 12    | Y      |\n",
    "| B           | 2021-01-01 | curry        | 15    | N      |\n",
    "| B           | 2021-01-02 | curry        | 15    | N      |\n",
    "| B           | 2021-01-04 | sushi        | 10    | N      |\n",
    "| B           | 2021-01-11 | sushi        | 10    | Y      |\n",
    "| B           | 2021-01-16 | ramen        | 12    | Y      |\n",
    "| B           | 2021-02-01 | ramen        | 12    | Y      |\n",
    "| C           | 2021-01-01 | ramen        | 12    | N      |\n",
    "| C           | 2021-01-01 | ramen        | 12    | N      |\n",
    "| C           | 2021-01-07 | ramen        | 12    | N      |"
   ]
  },
  {
   "cell_type": "markdown",
   "id": "bd4d9afd-9c03-4da8-baea-e998156e7cd2",
   "metadata": {},
   "source": [
    "<b>Rank All The Things</b><br />\n",
    "Danny also requires further information about the ranking of customer products, but he purposely does not need the ranking for non-member purchases so he expects null ranking values for the records when customers are not yet part of the loyalty program."
   ]
  },
  {
   "cell_type": "markdown",
   "id": "efd7b838-cd9a-4c9f-a3a4-0cf0a18f3429",
   "metadata": {},
   "source": [
    "![alt text](ranking.png \"Ranked Table\")"
   ]
  },
  {
   "cell_type": "markdown",
   "id": "d3482b56-7b94-4936-853b-53e85b619bd1",
   "metadata": {},
   "source": [
    "    select *, \n",
    "     case when member ='Y' then dense_rank() over (partition by customer_id, member order by order_date)  end  as ranking\n",
    "    from\n",
    "    (SELECT\n",
    "      \ts.customer_id,\n",
    "        left(cast(order_date as text),10) order_date,\n",
    "        product_name,\n",
    "        price,\n",
    "        case when order_date >= join_date then 'Y' else 'N' end as member\n",
    "    from dannys_diner.sales s     \n",
    "    left join dannys_diner.members me\n",
    "    on s.customer_id = me.customer_id\n",
    "    left join dannys_diner.menu m \n",
    "    on s.product_id = m.product_id\n",
    "    order by customer_id, order_date, s.product_id) base_table;\n",
    "\n",
    "| customer_id | order_date | product_name | price | member | ranking |\n",
    "| ----------- | ---------- | ------------ | ----- | ------ | ------- |\n",
    "| A           | 2021-01-01 | sushi        | 10    | N      |         |\n",
    "| A           | 2021-01-01 | curry        | 15    | N      |         |\n",
    "| A           | 2021-01-07 | curry        | 15    | Y      | 1       |\n",
    "| A           | 2021-01-10 | ramen        | 12    | Y      | 2       |\n",
    "| A           | 2021-01-11 | ramen        | 12    | Y      | 3       |\n",
    "| A           | 2021-01-11 | ramen        | 12    | Y      | 3       |\n",
    "| B           | 2021-01-01 | curry        | 15    | N      |         |\n",
    "| B           | 2021-01-02 | curry        | 15    | N      |         |\n",
    "| B           | 2021-01-04 | sushi        | 10    | N      |         |\n",
    "| B           | 2021-01-11 | sushi        | 10    | Y      | 1       |\n",
    "| B           | 2021-01-16 | ramen        | 12    | Y      | 2       |\n",
    "| B           | 2021-02-01 | ramen        | 12    | Y      | 3       |\n",
    "| C           | 2021-01-01 | ramen        | 12    | N      |         |\n",
    "| C           | 2021-01-01 | ramen        | 12    | N      |         |\n",
    "| C           | 2021-01-07 | ramen        | 12    | N      |         |"
   ]
  }
 ],
 "metadata": {
  "kernelspec": {
   "display_name": "Python 3 (ipykernel)",
   "language": "python",
   "name": "python3"
  },
  "language_info": {
   "codemirror_mode": {
    "name": "ipython",
    "version": 3
   },
   "file_extension": ".py",
   "mimetype": "text/x-python",
   "name": "python",
   "nbconvert_exporter": "python",
   "pygments_lexer": "ipython3",
   "version": "3.9.16"
  }
 },
 "nbformat": 4,
 "nbformat_minor": 5
}
